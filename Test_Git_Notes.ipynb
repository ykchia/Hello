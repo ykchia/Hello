{
 "metadata": {
  "name": "",
  "signature": "sha256:e0d1e163a18ef987c3e2e91237e0b8b78e61ba04715c8101e84cdc5f1de95e0a"
 },
 "nbformat": 3,
 "nbformat_minor": 0,
 "worksheets": [
  {
   "cells": [
    {
     "cell_type": "markdown",
     "metadata": {},
     "source": [
      "Markdown cells allow one to write latex scripts such as $\\sum_1^\\infty \\frac{1}{n^2} = \\frac{\\pi^2}{6}$. Use double \\$ to write display equation such as $$C = \\max_{p(x)}I(X;Y)$$"
     ]
    },
    {
     "cell_type": "code",
     "collapsed": false,
     "input": [
      "# As is standard, we always start with hello world...\n",
      "str = \"Hello World\"\n",
      "print str"
     ],
     "language": "python",
     "metadata": {},
     "outputs": [
      {
       "output_type": "stream",
       "stream": "stdout",
       "text": [
        "Hello World\n"
       ]
      }
     ],
     "prompt_number": 7
    },
    {
     "cell_type": "markdown",
     "metadata": {},
     "source": [
      "Now the whole point of ipython notebook is to use it to familiarize myself with git. Let see what happens when i make *changes* to ipython notebook and push to git."
     ]
    },
    {
     "cell_type": "markdown",
     "metadata": {},
     "source": [
      "Today, we will stop at pushing to master. Tomorrow or some other day, we look at **branching**."
     ]
    },
    {
     "cell_type": "code",
     "collapsed": false,
     "input": [],
     "language": "python",
     "metadata": {},
     "outputs": []
    }
   ],
   "metadata": {}
  }
 ]
}