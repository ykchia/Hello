{
 "metadata": {
  "name": "",
  "signature": "sha256:1dd9130a51821c45eea9cb8a7d30fc2111231136f2b2092982f5eac7a3bad43e"
 },
 "nbformat": 3,
 "nbformat_minor": 0,
 "worksheets": [
  {
   "cells": [
    {
     "cell_type": "markdown",
     "metadata": {},
     "source": [
      "Markdown cells allow one to write latex scripts such as $\\sum_1^\\infty \\frac{1}{n^2} = \\frac{\\pi^2}{6}$. Use double \\$ to write display equation such as $$C = \\max_{p(x)}I(X;Y)$$"
     ]
    },
    {
     "cell_type": "code",
     "collapsed": false,
     "input": [
      "# As is standard, we always start with hello world...\n",
      "str = \"Hello World\"\n",
      "print str"
     ],
     "language": "python",
     "metadata": {},
     "outputs": [
      {
       "output_type": "stream",
       "stream": "stdout",
       "text": [
        "Hello World\n"
       ]
      }
     ],
     "prompt_number": 7
    },
    {
     "cell_type": "markdown",
     "metadata": {},
     "source": [
      "Now the whole point of ipython notebook is to use it to familiarize myself with git."
     ]
    }
   ],
   "metadata": {}
  }
 ]
}